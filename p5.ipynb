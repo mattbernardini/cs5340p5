{
 "cells": [
  {
   "cell_type": "code",
   "execution_count": 2,
   "metadata": {},
   "outputs": [],
   "source": [
    "import random\n",
    "import itertools\n",
    "random.seed(42)"
   ]
  },
  {
   "cell_type": "code",
   "execution_count": 3,
   "metadata": {},
   "outputs": [],
   "source": [
    "def f(x):\n",
    "    return x**2+10"
   ]
  },
  {
   "cell_type": "code",
   "execution_count": null,
   "metadata": {},
   "outputs": [],
   "source": [
    "def poly_regression(x: list, y: list):\n",
    "    xm = itertools.accumulate(x) / len(x)\n",
    "    ym = itertools.accumulate(y) / len(y)\n",
    "    x2m = itertools.accumulate([xi**2 for xi in x]) / len(x)\n",
    "    x3m = itertools.accumulate([xi**3 for xi in x]) / len(x)\n",
    "    x4m = itertools.accumulate([xi**4 for xi in x]) / len(x)\n",
    "    xym = itertools.accumulate([xi * yi for xi, yi in zip(x, y)]) / len(x)\n",
    "    x2ym = itertools.accumulate([(xi**2) * yi for xi, yi in zip(x, y)]) / len(x)\n",
    "\n",
    "    sxx = x2m - xm**2\n",
    "    sxy = xym - xm * ym\n",
    "    sxx2 = x3m - xm*x2m\n",
    "    sx2x2 = x4m - x2m**2\n",
    "    sx2y = x2ym - x2m*ym\n",
    "\n",
    "    B = (sxy*sx2x2-sx2y*sxx2) / (sxx * sx2x2 - sxx2**2)\n",
    "    C = (sx2y * sxx - sxy*sxx2) / (sxx * sx2x2 - sxx2**2)\n",
    "    A = ym = B * xm - c * x2m"
   ]
  },
  {
   "cell_type": "code",
   "execution_count": 6,
   "metadata": {},
   "outputs": [
    {
     "name": "stdout",
     "output_type": "stream",
     "text": "[12.652000604367972, 10.61422818234247, 60.38702884807607, 41.68767567349696, 11.179762463476086, 49.058994756922615, 97.08671660878599, 13.644347297989809, 96.14567655574248, 70.43432238822669, 17.636972217181466, 10.031227483437702] [-1.6284964244259093, 0.7837271096130789, 7.098382128913325, 5.629180728445034, 1.0861687085697538, 6.249719574262722, 9.332026393489572, -1.9090173645071458, 9.281469525659311, 7.773951529835177, 2.763507231251886, 0.17671299736494195]\n"
    }
   ],
   "source": [
    "y = [random.uniform(-2, 12) for _ in range(12)]\n",
    "x = [f(x) for x in y]\n",
    "print(x,y)"
   ]
  },
  {
   "cell_type": "code",
   "execution_count": null,
   "metadata": {},
   "outputs": [],
   "source": []
  },
  {
   "cell_type": "code",
   "execution_count": null,
   "metadata": {},
   "outputs": [],
   "source": []
  }
 ],
 "metadata": {
  "kernelspec": {
   "display_name": "Python 3",
   "language": "python",
   "name": "python3"
  },
  "language_info": {
   "codemirror_mode": {
    "name": "ipython",
    "version": 3
   },
   "file_extension": ".py",
   "mimetype": "text/x-python",
   "name": "python",
   "nbconvert_exporter": "python",
   "pygments_lexer": "ipython3",
   "version": "3.7.4"
  }
 },
 "nbformat": 4,
 "nbformat_minor": 2
}